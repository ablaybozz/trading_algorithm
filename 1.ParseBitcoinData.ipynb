{
 "cells": [
  {
   "cell_type": "code",
   "execution_count": 1,
   "id": "475f23fc-b6d1-4104-8b25-3c6b92929621",
   "metadata": {},
   "outputs": [],
   "source": [
    "from function import *"
   ]
  },
  {
   "cell_type": "markdown",
   "id": "d60af852-38ac-4d3b-9d4b-b98d9513e131",
   "metadata": {},
   "source": [
    "#### parse data"
   ]
  },
  {
   "cell_type": "code",
   "execution_count": 2,
   "id": "1b2a8fdb-6238-4028-8253-b5ed0eada35f",
   "metadata": {},
   "outputs": [],
   "source": [
    "start_time_str = '2022-11-21T00:00:00Z'\n",
    "end_time_str = '2024-12-06T00:00:00Z'\n",
    "symbol = 'BTC/USDT'\n",
    "bull_btc_1h_df = batch_load_hr_data(start_time_str, end_time_str, symbol)"
   ]
  },
  {
   "cell_type": "code",
   "execution_count": 3,
   "id": "6c6f102c-539c-41b0-9411-e337aa2849c7",
   "metadata": {},
   "outputs": [
    {
     "data": {
      "text/html": [
       "<div>\n",
       "<style scoped>\n",
       "    .dataframe tbody tr th:only-of-type {\n",
       "        vertical-align: middle;\n",
       "    }\n",
       "\n",
       "    .dataframe tbody tr th {\n",
       "        vertical-align: top;\n",
       "    }\n",
       "\n",
       "    .dataframe thead th {\n",
       "        text-align: right;\n",
       "    }\n",
       "</style>\n",
       "<table border=\"1\" class=\"dataframe\">\n",
       "  <thead>\n",
       "    <tr style=\"text-align: right;\">\n",
       "      <th></th>\n",
       "      <th>timestamp</th>\n",
       "      <th>open</th>\n",
       "      <th>high</th>\n",
       "      <th>low</th>\n",
       "      <th>close</th>\n",
       "      <th>volume</th>\n",
       "      <th>datetime</th>\n",
       "    </tr>\n",
       "  </thead>\n",
       "  <tbody>\n",
       "    <tr>\n",
       "      <th>17936</th>\n",
       "      <td>1733562000000</td>\n",
       "      <td>99414.76</td>\n",
       "      <td>99821.83</td>\n",
       "      <td>99414.75</td>\n",
       "      <td>99676.48</td>\n",
       "      <td>558.38011</td>\n",
       "      <td>2024-12-07 09:00:00</td>\n",
       "    </tr>\n",
       "    <tr>\n",
       "      <th>17937</th>\n",
       "      <td>1733565600000</td>\n",
       "      <td>99676.48</td>\n",
       "      <td>99708.43</td>\n",
       "      <td>99440.00</td>\n",
       "      <td>99529.50</td>\n",
       "      <td>795.39219</td>\n",
       "      <td>2024-12-07 10:00:00</td>\n",
       "    </tr>\n",
       "    <tr>\n",
       "      <th>17938</th>\n",
       "      <td>1733569200000</td>\n",
       "      <td>99529.50</td>\n",
       "      <td>99750.00</td>\n",
       "      <td>99421.53</td>\n",
       "      <td>99620.00</td>\n",
       "      <td>437.99027</td>\n",
       "      <td>2024-12-07 11:00:00</td>\n",
       "    </tr>\n",
       "    <tr>\n",
       "      <th>17939</th>\n",
       "      <td>1733572800000</td>\n",
       "      <td>99620.00</td>\n",
       "      <td>99703.55</td>\n",
       "      <td>99364.00</td>\n",
       "      <td>99426.87</td>\n",
       "      <td>421.89864</td>\n",
       "      <td>2024-12-07 12:00:00</td>\n",
       "    </tr>\n",
       "    <tr>\n",
       "      <th>17940</th>\n",
       "      <td>1733576400000</td>\n",
       "      <td>99426.88</td>\n",
       "      <td>99518.75</td>\n",
       "      <td>99304.00</td>\n",
       "      <td>99328.39</td>\n",
       "      <td>333.81641</td>\n",
       "      <td>2024-12-07 13:00:00</td>\n",
       "    </tr>\n",
       "  </tbody>\n",
       "</table>\n",
       "</div>"
      ],
      "text/plain": [
       "           timestamp      open      high       low     close     volume  \\\n",
       "17936  1733562000000  99414.76  99821.83  99414.75  99676.48  558.38011   \n",
       "17937  1733565600000  99676.48  99708.43  99440.00  99529.50  795.39219   \n",
       "17938  1733569200000  99529.50  99750.00  99421.53  99620.00  437.99027   \n",
       "17939  1733572800000  99620.00  99703.55  99364.00  99426.87  421.89864   \n",
       "17940  1733576400000  99426.88  99518.75  99304.00  99328.39  333.81641   \n",
       "\n",
       "                 datetime  \n",
       "17936 2024-12-07 09:00:00  \n",
       "17937 2024-12-07 10:00:00  \n",
       "17938 2024-12-07 11:00:00  \n",
       "17939 2024-12-07 12:00:00  \n",
       "17940 2024-12-07 13:00:00  "
      ]
     },
     "execution_count": 3,
     "metadata": {},
     "output_type": "execute_result"
    }
   ],
   "source": [
    "bull_btc_1h_df.tail()"
   ]
  },
  {
   "cell_type": "markdown",
   "id": "3c344b67-4a2d-4da2-b7ec-2951df5a196a",
   "metadata": {},
   "source": [
    "#### check intervals"
   ]
  },
  {
   "cell_type": "code",
   "execution_count": 7,
   "id": "f4056911-e123-4bf2-9054-72e124590824",
   "metadata": {},
   "outputs": [
    {
     "data": {
      "text/plain": [
       "timestamp\n",
       "3600000.0    17939\n",
       "7200000.0        1\n",
       "Name: count, dtype: int64"
      ]
     },
     "execution_count": 7,
     "metadata": {},
     "output_type": "execute_result"
    }
   ],
   "source": [
    "#1 interval is skipped, need to input\n",
    "bull_btc_1h_df['timestamp'].diff().value_counts()"
   ]
  },
  {
   "cell_type": "code",
   "execution_count": 8,
   "id": "f715a613-5f71-4523-8020-7c4a95263676",
   "metadata": {},
   "outputs": [
    {
     "data": {
      "text/html": [
       "<div>\n",
       "<style scoped>\n",
       "    .dataframe tbody tr th:only-of-type {\n",
       "        vertical-align: middle;\n",
       "    }\n",
       "\n",
       "    .dataframe tbody tr th {\n",
       "        vertical-align: top;\n",
       "    }\n",
       "\n",
       "    .dataframe thead th {\n",
       "        text-align: right;\n",
       "    }\n",
       "</style>\n",
       "<table border=\"1\" class=\"dataframe\">\n",
       "  <thead>\n",
       "    <tr style=\"text-align: right;\">\n",
       "      <th></th>\n",
       "      <th>timestamp</th>\n",
       "      <th>open</th>\n",
       "      <th>high</th>\n",
       "      <th>low</th>\n",
       "      <th>close</th>\n",
       "      <th>volume</th>\n",
       "      <th>datetime</th>\n",
       "    </tr>\n",
       "  </thead>\n",
       "  <tbody>\n",
       "    <tr>\n",
       "      <th>2965</th>\n",
       "      <td>1679666400000</td>\n",
       "      <td>28079.99</td>\n",
       "      <td>28253.01</td>\n",
       "      <td>27835.0</td>\n",
       "      <td>27989.06</td>\n",
       "      <td>8983.24018</td>\n",
       "      <td>2023-03-24 14:00:00</td>\n",
       "    </tr>\n",
       "  </tbody>\n",
       "</table>\n",
       "</div>"
      ],
      "text/plain": [
       "          timestamp      open      high      low     close      volume  \\\n",
       "2965  1679666400000  28079.99  28253.01  27835.0  27989.06  8983.24018   \n",
       "\n",
       "                datetime  \n",
       "2965 2023-03-24 14:00:00  "
      ]
     },
     "execution_count": 8,
     "metadata": {},
     "output_type": "execute_result"
    }
   ],
   "source": [
    "#find its index\n",
    "bull_btc_1h_df[bull_btc_1h_df['timestamp'].diff()==7_200_000]"
   ]
  },
  {
   "cell_type": "code",
   "execution_count": 11,
   "id": "879f761c-232f-4bfc-b919-5adad053e04f",
   "metadata": {},
   "outputs": [
    {
     "data": {
      "text/html": [
       "<div>\n",
       "<style scoped>\n",
       "    .dataframe tbody tr th:only-of-type {\n",
       "        vertical-align: middle;\n",
       "    }\n",
       "\n",
       "    .dataframe tbody tr th {\n",
       "        vertical-align: top;\n",
       "    }\n",
       "\n",
       "    .dataframe thead th {\n",
       "        text-align: right;\n",
       "    }\n",
       "</style>\n",
       "<table border=\"1\" class=\"dataframe\">\n",
       "  <thead>\n",
       "    <tr style=\"text-align: right;\">\n",
       "      <th></th>\n",
       "      <th>timestamp</th>\n",
       "      <th>open</th>\n",
       "      <th>high</th>\n",
       "      <th>low</th>\n",
       "      <th>close</th>\n",
       "      <th>volume</th>\n",
       "      <th>datetime</th>\n",
       "    </tr>\n",
       "  </thead>\n",
       "  <tbody>\n",
       "    <tr>\n",
       "      <th>2964</th>\n",
       "      <td>1679659200000</td>\n",
       "      <td>28080.00</td>\n",
       "      <td>28080.00</td>\n",
       "      <td>28080.00</td>\n",
       "      <td>28080.00</td>\n",
       "      <td>0.00000</td>\n",
       "      <td>2023-03-24 12:00:00</td>\n",
       "    </tr>\n",
       "    <tr>\n",
       "      <th>2965</th>\n",
       "      <td>1679666400000</td>\n",
       "      <td>28079.99</td>\n",
       "      <td>28253.01</td>\n",
       "      <td>27835.00</td>\n",
       "      <td>27989.06</td>\n",
       "      <td>8983.24018</td>\n",
       "      <td>2023-03-24 14:00:00</td>\n",
       "    </tr>\n",
       "    <tr>\n",
       "      <th>2966</th>\n",
       "      <td>1679670000000</td>\n",
       "      <td>27989.07</td>\n",
       "      <td>28076.82</td>\n",
       "      <td>27843.41</td>\n",
       "      <td>28018.04</td>\n",
       "      <td>5198.28681</td>\n",
       "      <td>2023-03-24 15:00:00</td>\n",
       "    </tr>\n",
       "    <tr>\n",
       "      <th>2967</th>\n",
       "      <td>1679673600000</td>\n",
       "      <td>28018.04</td>\n",
       "      <td>28059.63</td>\n",
       "      <td>27831.33</td>\n",
       "      <td>27831.33</td>\n",
       "      <td>3377.68679</td>\n",
       "      <td>2023-03-24 16:00:00</td>\n",
       "    </tr>\n",
       "  </tbody>\n",
       "</table>\n",
       "</div>"
      ],
      "text/plain": [
       "          timestamp      open      high       low     close      volume  \\\n",
       "2964  1679659200000  28080.00  28080.00  28080.00  28080.00     0.00000   \n",
       "2965  1679666400000  28079.99  28253.01  27835.00  27989.06  8983.24018   \n",
       "2966  1679670000000  27989.07  28076.82  27843.41  28018.04  5198.28681   \n",
       "2967  1679673600000  28018.04  28059.63  27831.33  27831.33  3377.68679   \n",
       "\n",
       "                datetime  \n",
       "2964 2023-03-24 12:00:00  \n",
       "2965 2023-03-24 14:00:00  \n",
       "2966 2023-03-24 15:00:00  \n",
       "2967 2023-03-24 16:00:00  "
      ]
     },
     "execution_count": 11,
     "metadata": {},
     "output_type": "execute_result"
    }
   ],
   "source": [
    "#validate the skip\n",
    "bull_btc_1h_df.loc[2964:2967,:]"
   ]
  },
  {
   "cell_type": "code",
   "execution_count": 12,
   "id": "789267b6-931a-43c8-96e1-566dc6453151",
   "metadata": {},
   "outputs": [],
   "source": [
    "#seems something odd happened with the exchange at 2023-03-24 12:00 \n",
    "# as no trades were recorded we can drop this row\n",
    "bull_btc_1h_clean_df = bull_btc_1h_df.drop([2964], axis=0).reset_index(drop=True)"
   ]
  },
  {
   "cell_type": "markdown",
   "id": "f472d6ee-6cb6-4dcc-904e-81cc18d23a8f",
   "metadata": {},
   "source": [
    "#### check nans and zeros"
   ]
  },
  {
   "cell_type": "code",
   "execution_count": 13,
   "id": "d540d90c-9bc4-44af-b85f-3218dd253e73",
   "metadata": {},
   "outputs": [
    {
     "data": {
      "text/plain": [
       "timestamp    0\n",
       "open         0\n",
       "high         0\n",
       "low          0\n",
       "close        0\n",
       "volume       0\n",
       "datetime     0\n",
       "dtype: int64"
      ]
     },
     "execution_count": 13,
     "metadata": {},
     "output_type": "execute_result"
    }
   ],
   "source": [
    "#no nans\n",
    "bull_btc_1h_clean_df.isna().sum()"
   ]
  },
  {
   "cell_type": "code",
   "execution_count": 19,
   "id": "d5d13ef7-24e0-4fcf-b55e-284eb9f29a97",
   "metadata": {},
   "outputs": [
    {
     "data": {
      "text/html": [
       "<div>\n",
       "<style scoped>\n",
       "    .dataframe tbody tr th:only-of-type {\n",
       "        vertical-align: middle;\n",
       "    }\n",
       "\n",
       "    .dataframe tbody tr th {\n",
       "        vertical-align: top;\n",
       "    }\n",
       "\n",
       "    .dataframe thead th {\n",
       "        text-align: right;\n",
       "    }\n",
       "</style>\n",
       "<table border=\"1\" class=\"dataframe\">\n",
       "  <thead>\n",
       "    <tr style=\"text-align: right;\">\n",
       "      <th></th>\n",
       "      <th>timestamp</th>\n",
       "      <th>open</th>\n",
       "      <th>high</th>\n",
       "      <th>low</th>\n",
       "      <th>close</th>\n",
       "      <th>volume</th>\n",
       "      <th>datetime</th>\n",
       "    </tr>\n",
       "  </thead>\n",
       "  <tbody>\n",
       "    <tr>\n",
       "      <th>count</th>\n",
       "      <td>1.794000e+04</td>\n",
       "      <td>17940.000000</td>\n",
       "      <td>17940.000000</td>\n",
       "      <td>17940.000000</td>\n",
       "      <td>17940.000000</td>\n",
       "      <td>17940.000000</td>\n",
       "      <td>17940</td>\n",
       "    </tr>\n",
       "    <tr>\n",
       "      <th>mean</th>\n",
       "      <td>1.701285e+12</td>\n",
       "      <td>44028.599110</td>\n",
       "      <td>44180.567976</td>\n",
       "      <td>43871.367088</td>\n",
       "      <td>44033.228769</td>\n",
       "      <td>3176.385866</td>\n",
       "      <td>2023-11-29 19:10:10.434782720</td>\n",
       "    </tr>\n",
       "    <tr>\n",
       "      <th>min</th>\n",
       "      <td>1.668989e+12</td>\n",
       "      <td>15648.230000</td>\n",
       "      <td>15769.990000</td>\n",
       "      <td>15476.000000</td>\n",
       "      <td>15649.520000</td>\n",
       "      <td>92.165510</td>\n",
       "      <td>2022-11-21 00:00:00</td>\n",
       "    </tr>\n",
       "    <tr>\n",
       "      <th>25%</th>\n",
       "      <td>1.685141e+12</td>\n",
       "      <td>26950.465000</td>\n",
       "      <td>27043.447500</td>\n",
       "      <td>26881.365000</td>\n",
       "      <td>26954.102500</td>\n",
       "      <td>735.550885</td>\n",
       "      <td>2023-05-26 22:45:00</td>\n",
       "    </tr>\n",
       "    <tr>\n",
       "      <th>50%</th>\n",
       "      <td>1.701286e+12</td>\n",
       "      <td>37861.545000</td>\n",
       "      <td>37966.225000</td>\n",
       "      <td>37768.340000</td>\n",
       "      <td>37863.000000</td>\n",
       "      <td>1305.319305</td>\n",
       "      <td>2023-11-29 19:30:00</td>\n",
       "    </tr>\n",
       "    <tr>\n",
       "      <th>75%</th>\n",
       "      <td>1.717431e+12</td>\n",
       "      <td>62946.507500</td>\n",
       "      <td>63185.220000</td>\n",
       "      <td>62739.600000</td>\n",
       "      <td>62948.930000</td>\n",
       "      <td>3105.898080</td>\n",
       "      <td>2024-06-03 16:15:00</td>\n",
       "    </tr>\n",
       "    <tr>\n",
       "      <th>max</th>\n",
       "      <td>1.733576e+12</td>\n",
       "      <td>103508.000000</td>\n",
       "      <td>104088.000000</td>\n",
       "      <td>102684.730000</td>\n",
       "      <td>103507.990000</td>\n",
       "      <td>80041.752040</td>\n",
       "      <td>2024-12-07 13:00:00</td>\n",
       "    </tr>\n",
       "    <tr>\n",
       "      <th>std</th>\n",
       "      <td>1.864603e+10</td>\n",
       "      <td>20317.546425</td>\n",
       "      <td>20405.043897</td>\n",
       "      <td>20225.630047</td>\n",
       "      <td>20320.681285</td>\n",
       "      <td>5127.484584</td>\n",
       "      <td>NaN</td>\n",
       "    </tr>\n",
       "  </tbody>\n",
       "</table>\n",
       "</div>"
      ],
      "text/plain": [
       "          timestamp           open           high            low  \\\n",
       "count  1.794000e+04   17940.000000   17940.000000   17940.000000   \n",
       "mean   1.701285e+12   44028.599110   44180.567976   43871.367088   \n",
       "min    1.668989e+12   15648.230000   15769.990000   15476.000000   \n",
       "25%    1.685141e+12   26950.465000   27043.447500   26881.365000   \n",
       "50%    1.701286e+12   37861.545000   37966.225000   37768.340000   \n",
       "75%    1.717431e+12   62946.507500   63185.220000   62739.600000   \n",
       "max    1.733576e+12  103508.000000  104088.000000  102684.730000   \n",
       "std    1.864603e+10   20317.546425   20405.043897   20225.630047   \n",
       "\n",
       "               close        volume                       datetime  \n",
       "count   17940.000000  17940.000000                          17940  \n",
       "mean    44033.228769   3176.385866  2023-11-29 19:10:10.434782720  \n",
       "min     15649.520000     92.165510            2022-11-21 00:00:00  \n",
       "25%     26954.102500    735.550885            2023-05-26 22:45:00  \n",
       "50%     37863.000000   1305.319305            2023-11-29 19:30:00  \n",
       "75%     62948.930000   3105.898080            2024-06-03 16:15:00  \n",
       "max    103507.990000  80041.752040            2024-12-07 13:00:00  \n",
       "std     20320.681285   5127.484584                            NaN  "
      ]
     },
     "execution_count": 19,
     "metadata": {},
     "output_type": "execute_result"
    }
   ],
   "source": [
    "#min values greater than 0\n",
    "bull_btc_1h_clean_df.describe()"
   ]
  },
  {
   "cell_type": "markdown",
   "id": "95e9a96b-1a57-4f54-a26a-0f21e36b0976",
   "metadata": {},
   "source": [
    "#### save results"
   ]
  },
  {
   "cell_type": "code",
   "execution_count": 20,
   "id": "74430cc6-0311-4503-a2ea-1b286242f213",
   "metadata": {},
   "outputs": [],
   "source": [
    "bull_btc_1h_clean_df.to_csv('clean_data/btc_1h.csv', index=False)"
   ]
  },
  {
   "cell_type": "code",
   "execution_count": null,
   "id": "b56aa4bf-14f1-4d0f-89a9-5baf34723b3b",
   "metadata": {},
   "outputs": [],
   "source": []
  }
 ],
 "metadata": {
  "kernelspec": {
   "display_name": "Python 3 (ipykernel)",
   "language": "python",
   "name": "python3"
  },
  "language_info": {
   "codemirror_mode": {
    "name": "ipython",
    "version": 3
   },
   "file_extension": ".py",
   "mimetype": "text/x-python",
   "name": "python",
   "nbconvert_exporter": "python",
   "pygments_lexer": "ipython3",
   "version": "3.11.2"
  }
 },
 "nbformat": 4,
 "nbformat_minor": 5
}
